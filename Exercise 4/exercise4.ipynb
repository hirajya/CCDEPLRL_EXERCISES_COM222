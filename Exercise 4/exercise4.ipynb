{
  "nbformat": 4,
  "nbformat_minor": 0,
  "metadata": {
    "colab": {
      "provenance": [],
      "gpuType": "T4"
    },
    "kernelspec": {
      "name": "python3",
      "display_name": "Python 3"
    },
    "language_info": {
      "name": "python"
    },
    "accelerator": "GPU"
  },
  "cells": [
    {
      "cell_type": "markdown",
      "source": [
        "# Exercise 4"
      ],
      "metadata": {
        "id": "NxU0ygcwaZUj"
      }
    },
    {
      "cell_type": "markdown",
      "source": [
        "\n",
        "## Instructions\n",
        "\n",
        "\n",
        "1. Collect **100-200 images** of the fruit\n",
        "2. Split the collected images for train, test and validation. Please make sure that there are no duplicate images. Images that are used in train should not appear in test, validation and vice versa.\n",
        "3. Combine the collected images together with the images of apple, orange and banana. They  are already available in the link below: https://github.com/robitussin/tensorflow_lite_projects/tree/main/images/fruits\n",
        "4. Create and train a Convolutional Neural Network (CNN).\n",
        "5. Save the model as **\"model.tflite\"**\n",
        "6. Create a folder named **exercise_4** in your **CCDEPLRL_EXERCISES_COM222_ML** repository.\n",
        "7. Upload the **python notebook (.ipynb)** and the **model (.tflite)** in the exercise_3 folder\n",
        "\n",
        "Deadline of submission is on **April 22, 2025**"
      ],
      "metadata": {
        "id": "VRQ59rhrc8G8"
      }
    },
    {
      "cell_type": "markdown",
      "source": [
        "## Model"
      ],
      "metadata": {
        "id": "h0HEkgqUeBA4"
      }
    },
    {
      "cell_type": "code",
      "source": [
        "# rm -rf fruits"
      ],
      "metadata": {
        "id": "KhAhUTpATvj-"
      },
      "execution_count": 254,
      "outputs": []
    },
    {
      "cell_type": "code",
      "source": [
        "!unzip fruits.zip"
      ],
      "metadata": {
        "colab": {
          "base_uri": "https://localhost:8080/"
        },
        "id": "OetrOrDjQfV4",
        "outputId": "b7c1050c-534e-4805-e5f5-ffb1e8bbea35"
      },
      "execution_count": 255,
      "outputs": [
        {
          "output_type": "stream",
          "name": "stdout",
          "text": [
            "Archive:  fruits.zip\n",
            "   creating: fruits/\n",
            "   creating: fruits/test/\n",
            "   creating: fruits/test/apple/\n",
            "  inflating: fruits/test/apple/Screen Shot 2018-06-08 at 5.13.10 PM.png  \n",
            "  inflating: fruits/test/apple/Screen Shot 2018-06-08 at 5.13.45 PM.png  \n",
            "  inflating: fruits/test/apple/Screen Shot 2018-06-08 at 5.14.20 PM.png  \n",
            "  inflating: fruits/test/apple/Screen Shot 2018-06-08 at 5.15.28 PM.png  \n",
            "  inflating: fruits/test/apple/Screen Shot 2018-06-08 at 5.15.34 PM.png  \n",
            "  inflating: fruits/test/apple/Screen Shot 2018-06-08 at 5.15.45 PM.png  \n",
            "  inflating: fruits/test/apple/Screen Shot 2018-06-08 at 5.16.33 PM.png  \n",
            "  inflating: fruits/test/apple/Screen Shot 2018-06-08 at 5.17.58 PM.png  \n",
            "  inflating: fruits/test/apple/Screen Shot 2018-06-08 at 5.18.12 PM.png  \n",
            "  inflating: fruits/test/apple/Screen Shot 2018-06-08 at 5.20.26 PM.png  \n",
            "  inflating: fruits/test/apple/Screen Shot 2018-06-08 at 5.29.24 PM.png  \n",
            "  inflating: fruits/test/apple/Screen Shot 2018-06-08 at 5.32.33 PM.png  \n",
            "  inflating: fruits/test/apple/Screen Shot 2018-06-08 at 5.32.50 PM.png  \n",
            "   creating: fruits/test/banana/\n",
            "  inflating: fruits/test/banana/Screen Shot 2018-06-12 at 9.41.26 PM.png  \n",
            "  inflating: fruits/test/banana/Screen Shot 2018-06-12 at 9.41.38 PM.png  \n",
            "  inflating: fruits/test/banana/Screen Shot 2018-06-12 at 9.41.57 PM.png  \n",
            "  inflating: fruits/test/banana/Screen Shot 2018-06-12 at 9.42.09 PM.png  \n",
            "  inflating: fruits/test/banana/Screen Shot 2018-06-12 at 9.43.03 PM.png  \n",
            "  inflating: fruits/test/banana/Screen Shot 2018-06-12 at 9.44.19 PM.png  \n",
            "  inflating: fruits/test/banana/Screen Shot 2018-06-12 at 9.45.40 PM.png  \n",
            "  inflating: fruits/test/banana/Screen Shot 2018-06-12 at 9.45.46 PM.png  \n",
            "  inflating: fruits/test/banana/Screen Shot 2018-06-12 at 9.46.02 PM.png  \n",
            "  inflating: fruits/test/banana/Screen Shot 2018-06-12 at 9.46.12 PM.png  \n",
            "   creating: fruits/test/orange/\n",
            "  inflating: fruits/test/orange/Screen Shot 2018-06-12 at 11.50.19 PM.png  \n",
            "  inflating: fruits/test/orange/Screen Shot 2018-06-12 at 11.50.28 PM.png  \n",
            "  inflating: fruits/test/orange/Screen Shot 2018-06-12 at 11.50.33 PM.png  \n",
            "  inflating: fruits/test/orange/Screen Shot 2018-06-12 at 11.50.47 PM.png  \n",
            "  inflating: fruits/test/orange/Screen Shot 2018-06-12 at 11.50.54 PM.png  \n",
            "  inflating: fruits/test/orange/Screen Shot 2018-06-12 at 11.51.13 PM.png  \n",
            "  inflating: fruits/test/orange/Screen Shot 2018-06-12 at 11.52.16 PM.png  \n",
            "  inflating: fruits/test/orange/Screen Shot 2018-06-12 at 11.52.26 PM.png  \n",
            "  inflating: fruits/test/orange/Screen Shot 2018-06-12 at 11.52.32 PM.png  \n",
            "  inflating: fruits/test/orange/Screen Shot 2018-06-12 at 11.52.46 PM.png  \n",
            "   creating: fruits/test/strawberry/\n",
            "  inflating: fruits/test/strawberry/29.png  \n",
            "  inflating: fruits/test/strawberry/3.png  \n",
            "  inflating: fruits/test/strawberry/30.png  \n",
            "  inflating: fruits/test/strawberry/31.png  \n",
            "  inflating: fruits/test/strawberry/35.png  \n",
            "  inflating: fruits/test/strawberry/36.png  \n",
            "  inflating: fruits/test/strawberry/37.png  \n",
            "  inflating: fruits/test/strawberry/4.png  \n",
            "  inflating: fruits/test/strawberry/5.png  \n",
            "  inflating: fruits/test/strawberry/6.png  \n",
            "  inflating: fruits/test/strawberry/7.png  \n",
            "  inflating: fruits/test/strawberry/8.png  \n",
            "  inflating: fruits/test/strawberry/9.png  \n",
            "   creating: fruits/train/\n",
            "   creating: fruits/train/apple/\n",
            "  inflating: fruits/train/apple/Screen Shot 2018-06-08 at 4.59.36 PM.png  \n",
            "  inflating: fruits/train/apple/Screen Shot 2018-06-08 at 4.59.49 PM.png  \n",
            "  inflating: fruits/train/apple/Screen Shot 2018-06-08 at 4.59.57 PM.png  \n",
            "  inflating: fruits/train/apple/Screen Shot 2018-06-08 at 5.00.03 PM.png  \n",
            "  inflating: fruits/train/apple/Screen Shot 2018-06-08 at 5.00.35 PM.png  \n",
            "  inflating: fruits/train/apple/Screen Shot 2018-06-08 at 5.00.43 PM.png  \n",
            "  inflating: fruits/train/apple/Screen Shot 2018-06-08 at 5.00.50 PM.png  \n",
            "  inflating: fruits/train/apple/Screen Shot 2018-06-08 at 5.01.01 PM.png  \n",
            "  inflating: fruits/train/apple/Screen Shot 2018-06-08 at 5.01.15 PM.png  \n",
            "  inflating: fruits/train/apple/Screen Shot 2018-06-08 at 5.01.29 PM.png  \n",
            "  inflating: fruits/train/apple/Screen Shot 2018-06-08 at 5.02.08 PM.png  \n",
            "  inflating: fruits/train/apple/Screen Shot 2018-06-08 at 5.02.24 PM.png  \n",
            "  inflating: fruits/train/apple/Screen Shot 2018-06-08 at 5.02.38 PM.png  \n",
            "  inflating: fruits/train/apple/Screen Shot 2018-06-08 at 5.02.43 PM.png  \n",
            "  inflating: fruits/train/apple/Screen Shot 2018-06-08 at 5.03.10 PM.png  \n",
            "  inflating: fruits/train/apple/Screen Shot 2018-06-08 at 5.03.26 PM.png  \n",
            "  inflating: fruits/train/apple/Screen Shot 2018-06-08 at 5.03.34 PM.png  \n",
            "  inflating: fruits/train/apple/Screen Shot 2018-06-08 at 5.03.47 PM.png  \n",
            "  inflating: fruits/train/apple/Screen Shot 2018-06-08 at 5.03.59 PM.png  \n",
            "  inflating: fruits/train/apple/Screen Shot 2018-06-08 at 5.04.16 PM.png  \n",
            "  inflating: fruits/train/apple/Screen Shot 2018-06-08 at 5.04.24 PM.png  \n",
            "  inflating: fruits/train/apple/Screen Shot 2018-06-08 at 5.04.31 PM.png  \n",
            "  inflating: fruits/train/apple/Screen Shot 2018-06-08 at 5.04.59 PM.png  \n",
            "  inflating: fruits/train/apple/Screen Shot 2018-06-08 at 5.05.06 PM.png  \n",
            "  inflating: fruits/train/apple/Screen Shot 2018-06-08 at 5.05.12 PM.png  \n",
            "  inflating: fruits/train/apple/Screen Shot 2018-06-08 at 5.05.18 PM.png  \n",
            "  inflating: fruits/train/apple/Screen Shot 2018-06-08 at 5.05.34 PM.png  \n",
            "  inflating: fruits/train/apple/Screen Shot 2018-06-08 at 5.05.41 PM.png  \n",
            "  inflating: fruits/train/apple/Screen Shot 2018-06-08 at 5.06.19 PM.png  \n",
            "  inflating: fruits/train/apple/Screen Shot 2018-06-08 at 5.06.23 PM.png  \n",
            "  inflating: fruits/train/apple/Screen Shot 2018-06-08 at 5.06.33 PM.png  \n",
            "  inflating: fruits/train/apple/Screen Shot 2018-06-08 at 5.06.40 PM.png  \n",
            "  inflating: fruits/train/apple/Screen Shot 2018-06-08 at 5.06.54 PM.png  \n",
            "  inflating: fruits/train/apple/Screen Shot 2018-06-08 at 5.07.05 PM.png  \n",
            "  inflating: fruits/train/apple/Screen Shot 2018-06-08 at 5.07.52 PM.png  \n",
            "  inflating: fruits/train/apple/Screen Shot 2018-06-08 at 5.08.46 PM.png  \n",
            "  inflating: fruits/train/apple/Screen Shot 2018-06-08 at 5.09.10 PM.png  \n",
            "  inflating: fruits/train/apple/Screen Shot 2018-06-08 at 5.09.47 PM.png  \n",
            "  inflating: fruits/train/apple/Screen Shot 2018-06-08 at 5.10.43 PM.png  \n",
            "  inflating: fruits/train/apple/Screen Shot 2018-06-08 at 5.10.53 PM.png  \n",
            "  inflating: fruits/train/apple/Screen Shot 2018-06-08 at 5.11.02 PM.png  \n",
            "  inflating: fruits/train/apple/Screen Shot 2018-06-08 at 5.11.08 PM.png  \n",
            "  inflating: fruits/train/apple/Screen Shot 2018-06-08 at 5.11.16 PM.png  \n",
            "  inflating: fruits/train/apple/Screen Shot 2018-06-08 at 5.11.24 PM.png  \n",
            "  inflating: fruits/train/apple/Screen Shot 2018-06-08 at 5.11.41 PM.png  \n",
            "  inflating: fruits/train/apple/Screen Shot 2018-06-08 at 5.11.59 PM.png  \n",
            "  inflating: fruits/train/apple/Screen Shot 2018-06-08 at 5.12.29 PM.png  \n",
            "  inflating: fruits/train/apple/Screen Shot 2018-06-08 at 5.12.56 PM.png  \n",
            "  inflating: fruits/train/apple/Screen Shot 2018-06-08 at 5.13.10 PM.png  \n",
            "  inflating: fruits/train/apple/Screen Shot 2018-06-08 at 5.13.25 PM.png  \n",
            "  inflating: fruits/train/apple/Screen Shot 2018-06-08 at 5.13.31 PM.png  \n",
            "  inflating: fruits/train/apple/Screen Shot 2018-06-08 at 5.13.40 PM.png  \n",
            "  inflating: fruits/train/apple/Screen Shot 2018-06-08 at 5.13.45 PM.png  \n",
            "  inflating: fruits/train/apple/Screen Shot 2018-06-08 at 5.13.54 PM.png  \n",
            "  inflating: fruits/train/apple/Screen Shot 2018-06-08 at 5.14.01 PM.png  \n",
            "  inflating: fruits/train/apple/Screen Shot 2018-06-08 at 5.14.07 PM.png  \n",
            "  inflating: fruits/train/apple/Screen Shot 2018-06-08 at 5.14.20 PM.png  \n",
            "  inflating: fruits/train/apple/Screen Shot 2018-06-08 at 5.14.44 PM.png  \n",
            "  inflating: fruits/train/apple/Screen Shot 2018-06-08 at 5.14.48 PM.png  \n",
            "  inflating: fruits/train/apple/Screen Shot 2018-06-08 at 5.14.56 PM.png  \n",
            "  inflating: fruits/train/apple/Screen Shot 2018-06-08 at 5.15.01 PM.png  \n",
            "  inflating: fruits/train/apple/Screen Shot 2018-06-08 at 5.15.09 PM.png  \n",
            "  inflating: fruits/train/apple/Screen Shot 2018-06-08 at 5.15.21 PM.png  \n",
            "  inflating: fruits/train/apple/Screen Shot 2018-06-08 at 5.15.28 PM.png  \n",
            "  inflating: fruits/train/apple/Screen Shot 2018-06-08 at 5.15.34 PM.png  \n",
            "  inflating: fruits/train/apple/Screen Shot 2018-06-08 at 5.15.39 PM.png  \n",
            "  inflating: fruits/train/apple/Screen Shot 2018-06-08 at 5.15.45 PM.png  \n",
            "  inflating: fruits/train/apple/Screen Shot 2018-06-08 at 5.15.52 PM.png  \n",
            "  inflating: fruits/train/apple/Screen Shot 2018-06-08 at 5.16.06 PM.png  \n",
            "  inflating: fruits/train/apple/Screen Shot 2018-06-08 at 5.16.16 PM.png  \n",
            "  inflating: fruits/train/apple/Screen Shot 2018-06-08 at 5.16.28 PM.png  \n",
            "  inflating: fruits/train/apple/Screen Shot 2018-06-08 at 5.16.33 PM.png  \n",
            "  inflating: fruits/train/apple/Screen Shot 2018-06-08 at 5.16.49 PM.png  \n",
            "  inflating: fruits/train/apple/Screen Shot 2018-06-08 at 5.16.57 PM.png  \n",
            "  inflating: fruits/train/apple/Screen Shot 2018-06-08 at 5.17.04 PM.png  \n",
            "  inflating: fruits/train/apple/Screen Shot 2018-06-08 at 5.17.10 PM.png  \n",
            "  inflating: fruits/train/apple/Screen Shot 2018-06-08 at 5.17.22 PM.png  \n",
            "  inflating: fruits/train/apple/Screen Shot 2018-06-08 at 5.17.34 PM.png  \n",
            "  inflating: fruits/train/apple/Screen Shot 2018-06-08 at 5.17.58 PM.png  \n",
            "  inflating: fruits/train/apple/Screen Shot 2018-06-08 at 5.18.12 PM.png  \n",
            "  inflating: fruits/train/apple/Screen Shot 2018-06-08 at 5.18.26 PM.png  \n",
            "  inflating: fruits/train/apple/Screen Shot 2018-06-08 at 5.18.37 PM.png  \n",
            "  inflating: fruits/train/apple/Screen Shot 2018-06-08 at 5.18.42 PM.png  \n",
            "  inflating: fruits/train/apple/Screen Shot 2018-06-08 at 5.18.58 PM.png  \n",
            "  inflating: fruits/train/apple/Screen Shot 2018-06-08 at 5.19.15 PM.png  \n",
            "  inflating: fruits/train/apple/Screen Shot 2018-06-08 at 5.19.35 PM.png  \n",
            "  inflating: fruits/train/apple/Screen Shot 2018-06-08 at 5.19.58 PM.png  \n",
            "  inflating: fruits/train/apple/Screen Shot 2018-06-08 at 5.20.17 PM.png  \n",
            "  inflating: fruits/train/apple/Screen Shot 2018-06-08 at 5.20.26 PM.png  \n",
            "  inflating: fruits/train/apple/Screen Shot 2018-06-08 at 5.20.42 PM.png  \n",
            "  inflating: fruits/train/apple/Screen Shot 2018-06-08 at 5.20.56 PM.png  \n",
            "  inflating: fruits/train/apple/Screen Shot 2018-06-08 at 5.21.06 PM.png  \n",
            "  inflating: fruits/train/apple/Screen Shot 2018-06-08 at 5.21.22 PM.png  \n",
            "  inflating: fruits/train/apple/Screen Shot 2018-06-08 at 5.21.31 PM.png  \n",
            "  inflating: fruits/train/apple/Screen Shot 2018-06-08 at 5.21.35 PM.png  \n",
            "  inflating: fruits/train/apple/Screen Shot 2018-06-08 at 5.21.40 PM.png  \n",
            "  inflating: fruits/train/apple/Screen Shot 2018-06-08 at 5.21.44 PM.png  \n",
            "  inflating: fruits/train/apple/Screen Shot 2018-06-08 at 5.21.51 PM.png  \n",
            "  inflating: fruits/train/apple/Screen Shot 2018-06-08 at 5.21.56 PM.png  \n",
            "  inflating: fruits/train/apple/Screen Shot 2018-06-08 at 5.22.20 PM.png  \n",
            "  inflating: fruits/train/apple/Screen Shot 2018-06-08 at 5.29.24 PM.png  \n",
            "  inflating: fruits/train/apple/Screen Shot 2018-06-08 at 5.32.33 PM.png  \n",
            "  inflating: fruits/train/apple/Screen Shot 2018-06-08 at 5.32.50 PM.png  \n",
            "   creating: fruits/train/banana/\n",
            "  inflating: fruits/train/banana/Screen Shot 2018-06-12 at 10.00.00 PM.png  \n",
            "  inflating: fruits/train/banana/Screen Shot 2018-06-12 at 10.00.12 PM.png  \n",
            "  inflating: fruits/train/banana/Screen Shot 2018-06-12 at 10.00.21 PM.png  \n",
            "  inflating: fruits/train/banana/Screen Shot 2018-06-12 at 10.00.30 PM.png  \n",
            "  inflating: fruits/train/banana/Screen Shot 2018-06-12 at 10.00.42 PM.png  \n",
            "  inflating: fruits/train/banana/Screen Shot 2018-06-12 at 10.00.49 PM.png  \n",
            "  inflating: fruits/train/banana/Screen Shot 2018-06-12 at 10.01.27 PM.png  \n",
            "  inflating: fruits/train/banana/Screen Shot 2018-06-12 at 10.01.37 PM.png  \n",
            "  inflating: fruits/train/banana/Screen Shot 2018-06-12 at 10.01.41 PM.png  \n",
            "  inflating: fruits/train/banana/Screen Shot 2018-06-12 at 10.01.46 PM.png  \n",
            "  inflating: fruits/train/banana/Screen Shot 2018-06-12 at 10.01.58 PM.png  \n",
            "  inflating: fruits/train/banana/Screen Shot 2018-06-12 at 10.02.01 PM.png  \n",
            "  inflating: fruits/train/banana/Screen Shot 2018-06-12 at 10.02.09 PM.png  \n",
            "  inflating: fruits/train/banana/Screen Shot 2018-06-12 at 10.02.19 PM.png  \n",
            "  inflating: fruits/train/banana/Screen Shot 2018-06-12 at 10.04.54 PM.png  \n",
            "  inflating: fruits/train/banana/Screen Shot 2018-06-12 at 10.05.07 PM.png  \n",
            "  inflating: fruits/train/banana/Screen Shot 2018-06-12 at 10.05.13 PM.png  \n",
            "  inflating: fruits/train/banana/Screen Shot 2018-06-12 at 10.05.29 PM.png  \n",
            "  inflating: fruits/train/banana/Screen Shot 2018-06-12 at 10.05.35 PM.png  \n",
            "  inflating: fruits/train/banana/Screen Shot 2018-06-12 at 10.05.54 PM.png  \n",
            "  inflating: fruits/train/banana/Screen Shot 2018-06-12 at 10.06.07 PM.png  \n",
            "  inflating: fruits/train/banana/Screen Shot 2018-06-12 at 10.06.12 PM.png  \n",
            "  inflating: fruits/train/banana/Screen Shot 2018-06-12 at 10.06.19 PM.png  \n",
            "  inflating: fruits/train/banana/Screen Shot 2018-06-12 at 10.06.24 PM.png  \n",
            "  inflating: fruits/train/banana/Screen Shot 2018-06-12 at 10.06.33 PM.png  \n",
            "  inflating: fruits/train/banana/Screen Shot 2018-06-12 at 10.06.38 PM.png  \n",
            "  inflating: fruits/train/banana/Screen Shot 2018-06-12 at 10.06.59 PM.png  \n",
            "  inflating: fruits/train/banana/Screen Shot 2018-06-12 at 10.07.13 PM.png  \n",
            "  inflating: fruits/train/banana/Screen Shot 2018-06-12 at 10.07.29 PM.png  \n",
            "  inflating: fruits/train/banana/Screen Shot 2018-06-12 at 10.07.46 PM.png  \n",
            "  inflating: fruits/train/banana/Screen Shot 2018-06-12 at 10.08.01 PM.png  \n",
            "  inflating: fruits/train/banana/Screen Shot 2018-06-12 at 9.41.26 PM.png  \n",
            "  inflating: fruits/train/banana/Screen Shot 2018-06-12 at 9.41.38 PM.png  \n",
            "  inflating: fruits/train/banana/Screen Shot 2018-06-12 at 9.41.57 PM.png  \n",
            "  inflating: fruits/train/banana/Screen Shot 2018-06-12 at 9.42.09 PM.png  \n",
            "  inflating: fruits/train/banana/Screen Shot 2018-06-12 at 9.43.03 PM.png  \n",
            "  inflating: fruits/train/banana/Screen Shot 2018-06-12 at 9.44.19 PM.png  \n",
            "  inflating: fruits/train/banana/Screen Shot 2018-06-12 at 9.45.40 PM.png  \n",
            "  inflating: fruits/train/banana/Screen Shot 2018-06-12 at 9.45.46 PM.png  \n",
            "  inflating: fruits/train/banana/Screen Shot 2018-06-12 at 9.46.02 PM.png  \n",
            "  inflating: fruits/train/banana/Screen Shot 2018-06-12 at 9.46.12 PM.png  \n",
            "  inflating: fruits/train/banana/Screen Shot 2018-06-12 at 9.46.24 PM.png  \n",
            "  inflating: fruits/train/banana/Screen Shot 2018-06-12 at 9.46.30 PM.png  \n",
            "  inflating: fruits/train/banana/Screen Shot 2018-06-12 at 9.46.43 PM.png  \n",
            "  inflating: fruits/train/banana/Screen Shot 2018-06-12 at 9.46.55 PM.png  \n",
            "  inflating: fruits/train/banana/Screen Shot 2018-06-12 at 9.47.00 PM.png  \n",
            "  inflating: fruits/train/banana/Screen Shot 2018-06-12 at 9.47.18 PM.png  \n",
            "  inflating: fruits/train/banana/Screen Shot 2018-06-12 at 9.47.22 PM.png  \n",
            "  inflating: fruits/train/banana/Screen Shot 2018-06-12 at 9.47.32 PM.png  \n",
            "  inflating: fruits/train/banana/Screen Shot 2018-06-12 at 9.47.51 PM.png  \n",
            "  inflating: fruits/train/banana/Screen Shot 2018-06-12 at 9.47.55 PM.png  \n",
            "  inflating: fruits/train/banana/Screen Shot 2018-06-12 at 9.47.59 PM.png  \n",
            "  inflating: fruits/train/banana/Screen Shot 2018-06-12 at 9.48.21 PM.png  \n",
            "  inflating: fruits/train/banana/Screen Shot 2018-06-12 at 9.48.39 PM.png  \n",
            "  inflating: fruits/train/banana/Screen Shot 2018-06-12 at 9.48.48 PM.png  \n",
            "  inflating: fruits/train/banana/Screen Shot 2018-06-12 at 9.48.54 PM.png  \n",
            "  inflating: fruits/train/banana/Screen Shot 2018-06-12 at 9.49.15 PM.png  \n",
            "  inflating: fruits/train/banana/Screen Shot 2018-06-12 at 9.49.23 PM.png  \n",
            "  inflating: fruits/train/banana/Screen Shot 2018-06-12 at 9.49.32 PM.png  \n",
            "  inflating: fruits/train/banana/Screen Shot 2018-06-12 at 9.49.37 PM.png  \n",
            "  inflating: fruits/train/banana/Screen Shot 2018-06-12 at 9.49.54 PM.png  \n",
            "  inflating: fruits/train/banana/Screen Shot 2018-06-12 at 9.50.31 PM.png  \n",
            "  inflating: fruits/train/banana/Screen Shot 2018-06-12 at 9.50.44 PM.png  \n",
            "  inflating: fruits/train/banana/Screen Shot 2018-06-12 at 9.50.48 PM.png  \n",
            "  inflating: fruits/train/banana/Screen Shot 2018-06-12 at 9.51.29 PM.png  \n",
            "  inflating: fruits/train/banana/Screen Shot 2018-06-12 at 9.51.44 PM.png  \n",
            "  inflating: fruits/train/banana/Screen Shot 2018-06-12 at 9.51.54 PM.png  \n",
            "  inflating: fruits/train/banana/Screen Shot 2018-06-12 at 9.51.58 PM.png  \n",
            "  inflating: fruits/train/banana/Screen Shot 2018-06-12 at 9.52.06 PM.png  \n",
            "  inflating: fruits/train/banana/Screen Shot 2018-06-12 at 9.52.21 PM.png  \n",
            "  inflating: fruits/train/banana/Screen Shot 2018-06-12 at 9.52.26 PM.png  \n",
            "  inflating: fruits/train/banana/Screen Shot 2018-06-12 at 9.52.34 PM.png  \n",
            "  inflating: fruits/train/banana/Screen Shot 2018-06-12 at 9.52.45 PM.png  \n",
            "  inflating: fruits/train/banana/Screen Shot 2018-06-12 at 9.53.22 PM.png  \n",
            "  inflating: fruits/train/banana/Screen Shot 2018-06-12 at 9.53.30 PM.png  \n",
            "  inflating: fruits/train/banana/Screen Shot 2018-06-12 at 9.53.36 PM.png  \n",
            "  inflating: fruits/train/banana/Screen Shot 2018-06-12 at 9.53.41 PM.png  \n",
            "  inflating: fruits/train/banana/Screen Shot 2018-06-12 at 9.53.51 PM.png  \n",
            "  inflating: fruits/train/banana/Screen Shot 2018-06-12 at 9.53.57 PM.png  \n",
            "  inflating: fruits/train/banana/Screen Shot 2018-06-12 at 9.54.02 PM.png  \n",
            "  inflating: fruits/train/banana/Screen Shot 2018-06-12 at 9.54.18 PM.png  \n",
            "  inflating: fruits/train/banana/Screen Shot 2018-06-12 at 9.54.43 PM.png  \n",
            "  inflating: fruits/train/banana/Screen Shot 2018-06-12 at 9.55.02 PM.png  \n",
            "  inflating: fruits/train/banana/Screen Shot 2018-06-12 at 9.55.46 PM.png  \n",
            "  inflating: fruits/train/banana/Screen Shot 2018-06-12 at 9.55.53 PM.png  \n",
            "  inflating: fruits/train/banana/Screen Shot 2018-06-12 at 9.56.03 PM.png  \n",
            "  inflating: fruits/train/banana/Screen Shot 2018-06-12 at 9.56.16 PM.png  \n",
            "  inflating: fruits/train/banana/Screen Shot 2018-06-12 at 9.56.23 PM.png  \n",
            "  inflating: fruits/train/banana/Screen Shot 2018-06-12 at 9.56.33 PM.png  \n",
            "  inflating: fruits/train/banana/Screen Shot 2018-06-12 at 9.56.39 PM.png  \n",
            "  inflating: fruits/train/banana/Screen Shot 2018-06-12 at 9.56.48 PM.png  \n",
            "  inflating: fruits/train/banana/Screen Shot 2018-06-12 at 9.56.56 PM.png  \n",
            "  inflating: fruits/train/banana/Screen Shot 2018-06-12 at 9.57.02 PM.png  \n",
            "  inflating: fruits/train/banana/Screen Shot 2018-06-12 at 9.57.17 PM.png  \n",
            "  inflating: fruits/train/banana/Screen Shot 2018-06-12 at 9.57.25 PM.png  \n",
            "  inflating: fruits/train/banana/Screen Shot 2018-06-12 at 9.57.31 PM.png  \n",
            "  inflating: fruits/train/banana/Screen Shot 2018-06-12 at 9.57.38 PM.png  \n",
            "  inflating: fruits/train/banana/Screen Shot 2018-06-12 at 9.57.42 PM.png  \n",
            "  inflating: fruits/train/banana/Screen Shot 2018-06-12 at 9.57.46 PM.png  \n",
            "  inflating: fruits/train/banana/Screen Shot 2018-06-12 at 9.57.58 PM.png  \n",
            "  inflating: fruits/train/banana/Screen Shot 2018-06-12 at 9.58.16 PM.png  \n",
            "  inflating: fruits/train/banana/Screen Shot 2018-06-12 at 9.58.36 PM.png  \n",
            "  inflating: fruits/train/banana/Screen Shot 2018-06-12 at 9.58.49 PM.png  \n",
            "  inflating: fruits/train/banana/Screen Shot 2018-06-12 at 9.58.56 PM.png  \n",
            "  inflating: fruits/train/banana/Screen Shot 2018-06-12 at 9.59.02 PM.png  \n",
            "  inflating: fruits/train/banana/Screen Shot 2018-06-12 at 9.59.07 PM.png  \n",
            "  inflating: fruits/train/banana/Screen Shot 2018-06-12 at 9.59.12 PM.png  \n",
            "  inflating: fruits/train/banana/Screen Shot 2018-06-12 at 9.59.17 PM.png  \n",
            "  inflating: fruits/train/banana/Screen Shot 2018-06-12 at 9.59.28 PM.png  \n",
            "  inflating: fruits/train/banana/Screen Shot 2018-06-12 at 9.59.41 PM.png  \n",
            "   creating: fruits/train/orange/\n",
            "  inflating: fruits/train/orange/Screen Shot 2018-06-12 at 11.50.19 PM.png  \n",
            "  inflating: fruits/train/orange/Screen Shot 2018-06-12 at 11.50.28 PM.png  \n",
            "  inflating: fruits/train/orange/Screen Shot 2018-06-12 at 11.50.33 PM.png  \n",
            "  inflating: fruits/train/orange/Screen Shot 2018-06-12 at 11.50.47 PM.png  \n",
            "  inflating: fruits/train/orange/Screen Shot 2018-06-12 at 11.50.54 PM.png  \n",
            "  inflating: fruits/train/orange/Screen Shot 2018-06-12 at 11.51.13 PM.png  \n",
            "  inflating: fruits/train/orange/Screen Shot 2018-06-12 at 11.52.16 PM.png  \n",
            "  inflating: fruits/train/orange/Screen Shot 2018-06-12 at 11.52.26 PM.png  \n",
            "  inflating: fruits/train/orange/Screen Shot 2018-06-12 at 11.52.32 PM.png  \n",
            "  inflating: fruits/train/orange/Screen Shot 2018-06-12 at 11.52.46 PM.png  \n",
            "  inflating: fruits/train/orange/Screen Shot 2018-06-12 at 11.59.11 PM.png  \n",
            "  inflating: fruits/train/orange/Screen Shot 2018-06-12 at 11.59.19 PM.png  \n",
            "  inflating: fruits/train/orange/Screen Shot 2018-06-12 at 11.59.23 PM.png  \n",
            "  inflating: fruits/train/orange/Screen Shot 2018-06-12 at 11.59.33 PM.png  \n",
            "  inflating: fruits/train/orange/Screen Shot 2018-06-12 at 11.59.48 PM.png  \n",
            "  inflating: fruits/train/orange/Screen Shot 2018-06-12 at 11.59.54 PM.png  \n",
            "  inflating: fruits/train/orange/Screen Shot 2018-06-13 at 12.00.17 AM.png  \n",
            "  inflating: fruits/train/orange/Screen Shot 2018-06-13 at 12.00.23 AM.png  \n",
            "  inflating: fruits/train/orange/Screen Shot 2018-06-13 at 12.00.35 AM.png  \n",
            "  inflating: fruits/train/orange/Screen Shot 2018-06-13 at 12.00.43 AM.png  \n",
            "  inflating: fruits/train/orange/Screen Shot 2018-06-13 at 12.00.54 AM.png  \n",
            "  inflating: fruits/train/orange/Screen Shot 2018-06-13 at 12.01.03 AM.png  \n",
            "  inflating: fruits/train/orange/Screen Shot 2018-06-13 at 12.01.23 AM.png  \n",
            "  inflating: fruits/train/orange/Screen Shot 2018-06-13 at 12.01.58 AM.png  \n",
            "  inflating: fruits/train/orange/Screen Shot 2018-06-13 at 12.02.20 AM.png  \n",
            "  inflating: fruits/train/orange/Screen Shot 2018-06-13 at 12.02.33 AM.png  \n",
            "  inflating: fruits/train/orange/Screen Shot 2018-06-13 at 12.02.41 AM.png  \n",
            "  inflating: fruits/train/orange/Screen Shot 2018-06-13 at 12.02.45 AM.png  \n",
            "  inflating: fruits/train/orange/Screen Shot 2018-06-13 at 12.02.53 AM.png  \n",
            "  inflating: fruits/train/orange/Screen Shot 2018-06-13 at 12.03.27 AM.png  \n",
            "  inflating: fruits/train/orange/Screen Shot 2018-06-13 at 12.03.34 AM.png  \n",
            "  inflating: fruits/train/orange/Screen Shot 2018-06-13 at 12.03.44 AM.png  \n",
            "  inflating: fruits/train/orange/Screen Shot 2018-06-13 at 12.03.55 AM.png  \n",
            "  inflating: fruits/train/orange/Screen Shot 2018-06-13 at 12.04.12 AM.png  \n",
            "  inflating: fruits/train/orange/Screen Shot 2018-06-13 at 12.04.26 AM.png  \n",
            "  inflating: fruits/train/orange/Screen Shot 2018-06-13 at 12.04.34 AM.png  \n",
            "  inflating: fruits/train/orange/Screen Shot 2018-06-13 at 12.04.51 AM.png  \n",
            "  inflating: fruits/train/orange/Screen Shot 2018-06-13 at 12.05.13 AM.png  \n",
            "  inflating: fruits/train/orange/Screen Shot 2018-06-13 at 12.05.27 AM.png  \n",
            "  inflating: fruits/train/orange/Screen Shot 2018-06-13 at 12.05.46 AM.png  \n",
            "  inflating: fruits/train/orange/Screen Shot 2018-06-13 at 12.06.01 AM.png  \n",
            "  inflating: fruits/train/orange/Screen Shot 2018-06-13 at 12.06.15 AM.png  \n",
            "  inflating: fruits/train/orange/Screen Shot 2018-06-13 at 12.06.43 AM.png  \n",
            "  inflating: fruits/train/orange/Screen Shot 2018-06-13 at 12.06.52 AM.png  \n",
            "  inflating: fruits/train/orange/Screen Shot 2018-06-13 at 12.07.05 AM.png  \n",
            "  inflating: fruits/train/orange/Screen Shot 2018-06-13 at 12.07.17 AM.png  \n",
            "  inflating: fruits/train/orange/Screen Shot 2018-06-13 at 12.07.39 AM.png  \n",
            "  inflating: fruits/train/orange/Screen Shot 2018-06-13 at 12.07.46 AM.png  \n",
            "  inflating: fruits/train/orange/Screen Shot 2018-06-13 at 12.08.02 AM.png  \n",
            "  inflating: fruits/train/orange/Screen Shot 2018-06-13 at 12.08.29 AM.png  \n",
            "  inflating: fruits/train/orange/Screen Shot 2018-06-13 at 12.08.32 AM.png  \n",
            "  inflating: fruits/train/orange/Screen Shot 2018-06-13 at 12.08.41 AM.png  \n",
            "  inflating: fruits/train/orange/Screen Shot 2018-06-13 at 12.08.54 AM.png  \n",
            "  inflating: fruits/train/orange/Screen Shot 2018-06-13 at 12.08.58 AM.png  \n",
            "  inflating: fruits/train/orange/Screen Shot 2018-06-13 at 12.09.05 AM.png  \n",
            "  inflating: fruits/train/orange/Screen Shot 2018-06-13 at 12.09.14 AM.png  \n",
            "  inflating: fruits/train/orange/Screen Shot 2018-06-13 at 12.09.32 AM.png  \n",
            "  inflating: fruits/train/orange/Screen Shot 2018-06-13 at 12.09.43 AM.png  \n",
            "  inflating: fruits/train/orange/Screen Shot 2018-06-13 at 12.09.49 AM.png  \n",
            "  inflating: fruits/train/orange/Screen Shot 2018-06-13 at 12.10.04 AM.png  \n",
            "  inflating: fruits/train/orange/Screen Shot 2018-06-13 at 12.10.10 AM.png  \n",
            "  inflating: fruits/train/orange/Screen Shot 2018-06-13 at 12.10.16 AM.png  \n",
            "  inflating: fruits/train/orange/Screen Shot 2018-06-13 at 12.10.38 AM.png  \n",
            "  inflating: fruits/train/orange/Screen Shot 2018-06-13 at 12.10.45 AM.png  \n",
            "  inflating: fruits/train/orange/Screen Shot 2018-06-13 at 12.10.53 AM.png  \n",
            "  inflating: fruits/train/orange/Screen Shot 2018-06-13 at 12.10.57 AM.png  \n",
            "  inflating: fruits/train/orange/Screen Shot 2018-06-13 at 12.11.02 AM.png  \n",
            "  inflating: fruits/train/orange/Screen Shot 2018-06-13 at 12.11.10 AM.png  \n",
            "  inflating: fruits/train/orange/Screen Shot 2018-06-13 at 12.11.28 AM.png  \n",
            "  inflating: fruits/train/orange/Screen Shot 2018-06-13 at 12.11.45 AM.png  \n",
            "  inflating: fruits/train/orange/Screen Shot 2018-06-13 at 12.11.57 AM.png  \n",
            "  inflating: fruits/train/orange/Screen Shot 2018-06-13 at 12.12.04 AM.png  \n",
            "  inflating: fruits/train/orange/Screen Shot 2018-06-13 at 12.13.19 AM.png  \n",
            "  inflating: fruits/train/orange/Screen Shot 2018-06-13 at 12.13.24 AM.png  \n",
            "  inflating: fruits/train/orange/Screen Shot 2018-06-13 at 12.13.29 AM.png  \n",
            "  inflating: fruits/train/orange/Screen Shot 2018-06-13 at 12.13.35 AM.png  \n",
            "  inflating: fruits/train/orange/Screen Shot 2018-06-13 at 12.13.44 AM.png  \n",
            "  inflating: fruits/train/orange/Screen Shot 2018-06-13 at 12.13.58 AM.png  \n",
            "  inflating: fruits/train/orange/Screen Shot 2018-06-13 at 12.14.03 AM.png  \n",
            "  inflating: fruits/train/orange/Screen Shot 2018-06-13 at 12.14.09 AM.png  \n",
            "  inflating: fruits/train/orange/Screen Shot 2018-06-13 at 12.14.32 AM.png  \n",
            "  inflating: fruits/train/orange/Screen Shot 2018-06-13 at 12.14.43 AM.png  \n",
            "  inflating: fruits/train/orange/Screen Shot 2018-06-13 at 12.15.01 AM.png  \n",
            "  inflating: fruits/train/orange/Screen Shot 2018-06-13 at 12.15.13 AM.png  \n",
            "  inflating: fruits/train/orange/Screen Shot 2018-06-13 at 12.15.21 AM.png  \n",
            "  inflating: fruits/train/orange/Screen Shot 2018-06-13 at 12.15.27 AM.png  \n",
            "  inflating: fruits/train/orange/Screen Shot 2018-06-13 at 12.15.39 AM.png  \n",
            "  inflating: fruits/train/orange/Screen Shot 2018-06-13 at 12.16.08 AM.png  \n",
            "  inflating: fruits/train/orange/Screen Shot 2018-06-13 at 12.16.16 AM.png  \n",
            "  inflating: fruits/train/orange/Screen Shot 2018-06-13 at 12.16.22 AM.png  \n",
            "  inflating: fruits/train/orange/Screen Shot 2018-06-13 at 12.16.33 AM.png  \n",
            "  inflating: fruits/train/orange/Screen Shot 2018-06-13 at 12.16.45 AM.png  \n",
            "  inflating: fruits/train/orange/Screen Shot 2018-06-13 at 12.17.10 AM.png  \n",
            "  inflating: fruits/train/orange/Screen Shot 2018-06-13 at 12.17.43 AM.png  \n",
            "  inflating: fruits/train/orange/Screen Shot 2018-06-13 at 12.17.51 AM.png  \n",
            "  inflating: fruits/train/orange/Screen Shot 2018-06-13 at 12.17.55 AM.png  \n",
            "  inflating: fruits/train/orange/Screen Shot 2018-06-13 at 12.18.02 AM.png  \n",
            "  inflating: fruits/train/orange/Screen Shot 2018-06-13 at 12.18.07 AM.png  \n",
            "  inflating: fruits/train/orange/Screen Shot 2018-06-13 at 12.18.23 AM.png  \n",
            "  inflating: fruits/train/orange/Screen Shot 2018-06-13 at 12.18.27 AM.png  \n",
            "  inflating: fruits/train/orange/Screen Shot 2018-06-13 at 12.18.34 AM.png  \n",
            "  inflating: fruits/train/orange/Screen Shot 2018-06-13 at 12.18.40 AM.png  \n",
            "  inflating: fruits/train/orange/Screen Shot 2018-06-13 at 12.18.52 AM.png  \n",
            "  inflating: fruits/train/orange/Screen Shot 2018-06-13 at 12.19.08 AM.png  \n",
            "  inflating: fruits/train/orange/Screen Shot 2018-06-13 at 12.19.17 AM.png  \n",
            "  inflating: fruits/train/orange/Screen Shot 2018-06-13 at 12.19.43 AM.png  \n",
            "  inflating: fruits/train/orange/Screen Shot 2018-06-13 at 12.20.15 AM.png  \n",
            "  inflating: fruits/train/orange/Screen Shot 2018-06-13 at 12.20.21 AM.png  \n",
            "  inflating: fruits/train/orange/Screen Shot 2018-06-13 at 12.20.25 AM.png  \n",
            "  inflating: fruits/train/orange/Screen Shot 2018-06-13 at 12.20.39 AM.png  \n",
            "   creating: fruits/train/strawberry/\n",
            "  inflating: fruits/train/strawberry/1.png  \n",
            "  inflating: fruits/train/strawberry/10.png  \n",
            "  inflating: fruits/train/strawberry/11.png  \n",
            "  inflating: fruits/train/strawberry/12.png  \n",
            "  inflating: fruits/train/strawberry/13.png  \n",
            "  inflating: fruits/train/strawberry/14.png  \n",
            "  inflating: fruits/train/strawberry/15.png  \n",
            "  inflating: fruits/train/strawberry/16.png  \n",
            "  inflating: fruits/train/strawberry/17.png  \n",
            "  inflating: fruits/train/strawberry/18.png  \n",
            "  inflating: fruits/train/strawberry/19.png  \n",
            "  inflating: fruits/train/strawberry/2.png  \n",
            "  inflating: fruits/train/strawberry/20.png  \n",
            "  inflating: fruits/train/strawberry/21.png  \n",
            "  inflating: fruits/train/strawberry/22.png  \n",
            "  inflating: fruits/train/strawberry/23.png  \n",
            "  inflating: fruits/train/strawberry/24.png  \n",
            "  inflating: fruits/train/strawberry/25.png  \n",
            "  inflating: fruits/train/strawberry/26.png  \n",
            "  inflating: fruits/train/strawberry/27.png  \n",
            "  inflating: fruits/train/strawberry/28.png  \n",
            "  inflating: fruits/train/strawberry/29.png  \n",
            "  inflating: fruits/train/strawberry/3.png  \n",
            "  inflating: fruits/train/strawberry/30.png  \n",
            "  inflating: fruits/train/strawberry/31.png  \n",
            "  inflating: fruits/train/strawberry/32.png  \n",
            "  inflating: fruits/train/strawberry/33.png  \n",
            "  inflating: fruits/train/strawberry/34.png  \n",
            "  inflating: fruits/train/strawberry/35.png  \n",
            "  inflating: fruits/train/strawberry/36.png  \n",
            "  inflating: fruits/train/strawberry/37.png  \n",
            "  inflating: fruits/train/strawberry/38.png  \n",
            "  inflating: fruits/train/strawberry/39.png  \n",
            "  inflating: fruits/train/strawberry/4.png  \n",
            "  inflating: fruits/train/strawberry/40.png  \n",
            "  inflating: fruits/train/strawberry/41.png  \n",
            "  inflating: fruits/train/strawberry/42.png  \n",
            "  inflating: fruits/train/strawberry/43.png  \n",
            "  inflating: fruits/train/strawberry/44.png  \n",
            "  inflating: fruits/train/strawberry/45.png  \n",
            "  inflating: fruits/train/strawberry/46.png  \n",
            "  inflating: fruits/train/strawberry/47.png  \n",
            "  inflating: fruits/train/strawberry/48.png  \n",
            "  inflating: fruits/train/strawberry/49.png  \n",
            "  inflating: fruits/train/strawberry/5.png  \n",
            "  inflating: fruits/train/strawberry/50.png  \n",
            "  inflating: fruits/train/strawberry/6.png  \n",
            "  inflating: fruits/train/strawberry/7.png  \n",
            "  inflating: fruits/train/strawberry/8.png  \n",
            "  inflating: fruits/train/strawberry/9.png  \n",
            "   creating: fruits/validation/\n",
            "   creating: fruits/validation/apple/\n",
            "  inflating: fruits/validation/apple/Screen Shot 2018-06-08 at 5.22.27 PM.png  \n",
            "  inflating: fruits/validation/apple/Screen Shot 2018-06-08 at 5.22.35 PM.png  \n",
            "  inflating: fruits/validation/apple/Screen Shot 2018-06-08 at 5.22.48 PM.png  \n",
            "  inflating: fruits/validation/apple/Screen Shot 2018-06-08 at 5.22.53 PM.png  \n",
            "  inflating: fruits/validation/apple/Screen Shot 2018-06-08 at 5.22.58 PM.png  \n",
            "  inflating: fruits/validation/apple/Screen Shot 2018-06-08 at 5.23.07 PM.png  \n",
            "  inflating: fruits/validation/apple/Screen Shot 2018-06-08 at 5.23.14 PM.png  \n",
            "  inflating: fruits/validation/apple/Screen Shot 2018-06-08 at 5.23.23 PM.png  \n",
            "  inflating: fruits/validation/apple/Screen Shot 2018-06-08 at 5.23.26 PM.png  \n",
            "  inflating: fruits/validation/apple/Screen Shot 2018-06-08 at 5.23.31 PM.png  \n",
            "  inflating: fruits/validation/apple/Screen Shot 2018-06-08 at 5.23.51 PM.png  \n",
            "  inflating: fruits/validation/apple/Screen Shot 2018-06-08 at 5.24.04 PM.png  \n",
            "  inflating: fruits/validation/apple/Screen Shot 2018-06-08 at 5.24.12 PM.png  \n",
            "  inflating: fruits/validation/apple/Screen Shot 2018-06-08 at 5.24.19 PM.png  \n",
            "  inflating: fruits/validation/apple/Screen Shot 2018-06-08 at 5.24.26 PM.png  \n",
            "  inflating: fruits/validation/apple/Screen Shot 2018-06-08 at 5.24.35 PM.png  \n",
            "  inflating: fruits/validation/apple/Screen Shot 2018-06-08 at 5.25.02 PM.png  \n",
            "  inflating: fruits/validation/apple/Screen Shot 2018-06-08 at 5.25.22 PM.png  \n",
            "  inflating: fruits/validation/apple/Screen Shot 2018-06-08 at 5.25.28 PM.png  \n",
            "  inflating: fruits/validation/apple/Screen Shot 2018-06-08 at 5.25.33 PM.png  \n",
            "  inflating: fruits/validation/apple/Screen Shot 2018-06-08 at 5.25.37 PM.png  \n",
            "  inflating: fruits/validation/apple/Screen Shot 2018-06-08 at 5.25.43 PM.png  \n",
            "  inflating: fruits/validation/apple/Screen Shot 2018-06-08 at 5.25.49 PM.png  \n",
            "   creating: fruits/validation/banana/\n",
            "  inflating: fruits/validation/banana/Screen Shot 2018-06-12 at 9.38.04 PM.png  \n",
            "  inflating: fruits/validation/banana/Screen Shot 2018-06-12 at 9.38.10 PM.png  \n",
            "  inflating: fruits/validation/banana/Screen Shot 2018-06-12 at 9.38.15 PM.png  \n",
            "  inflating: fruits/validation/banana/Screen Shot 2018-06-12 at 9.38.22 PM.png  \n",
            "  inflating: fruits/validation/banana/Screen Shot 2018-06-12 at 9.38.29 PM.png  \n",
            "  inflating: fruits/validation/banana/Screen Shot 2018-06-12 at 9.38.38 PM.png  \n",
            "  inflating: fruits/validation/banana/Screen Shot 2018-06-12 at 9.38.51 PM.png  \n",
            "  inflating: fruits/validation/banana/Screen Shot 2018-06-12 at 9.39.00 PM.png  \n",
            "  inflating: fruits/validation/banana/Screen Shot 2018-06-12 at 9.39.08 PM.png  \n",
            "  inflating: fruits/validation/banana/Screen Shot 2018-06-12 at 9.39.13 PM.png  \n",
            "  inflating: fruits/validation/banana/Screen Shot 2018-06-12 at 9.39.17 PM.png  \n",
            "  inflating: fruits/validation/banana/Screen Shot 2018-06-12 at 9.39.22 PM.png  \n",
            "  inflating: fruits/validation/banana/Screen Shot 2018-06-12 at 9.39.28 PM.png  \n",
            "  inflating: fruits/validation/banana/Screen Shot 2018-06-12 at 9.39.33 PM.png  \n",
            "  inflating: fruits/validation/banana/Screen Shot 2018-06-12 at 9.39.47 PM.png  \n",
            "  inflating: fruits/validation/banana/Screen Shot 2018-06-12 at 9.39.53 PM.png  \n",
            "  inflating: fruits/validation/banana/Screen Shot 2018-06-12 at 9.39.58 PM.png  \n",
            "  inflating: fruits/validation/banana/Screen Shot 2018-06-12 at 9.40.02 PM.png  \n",
            "  inflating: fruits/validation/banana/Screen Shot 2018-06-12 at 9.40.10 PM.png  \n",
            "  inflating: fruits/validation/banana/Screen Shot 2018-06-12 at 9.40.22 PM.png  \n",
            "  inflating: fruits/validation/banana/Screen Shot 2018-06-12 at 9.40.26 PM.png  \n",
            "  inflating: fruits/validation/banana/Screen Shot 2018-06-12 at 9.40.32 PM.png  \n",
            "   creating: fruits/validation/orange/\n",
            "  inflating: fruits/validation/orange/Screen Shot 2018-06-12 at 11.55.48 PM.png  \n",
            "  inflating: fruits/validation/orange/Screen Shot 2018-06-12 at 11.55.58 PM.png  \n",
            "  inflating: fruits/validation/orange/Screen Shot 2018-06-12 at 11.56.02 PM.png  \n",
            "  inflating: fruits/validation/orange/Screen Shot 2018-06-12 at 11.56.16 PM.png  \n",
            "  inflating: fruits/validation/orange/Screen Shot 2018-06-12 at 11.56.20 PM.png  \n",
            "  inflating: fruits/validation/orange/Screen Shot 2018-06-12 at 11.56.35 PM.png  \n",
            "  inflating: fruits/validation/orange/Screen Shot 2018-06-12 at 11.56.43 PM.png  \n",
            "  inflating: fruits/validation/orange/Screen Shot 2018-06-12 at 11.56.48 PM.png  \n",
            "  inflating: fruits/validation/orange/Screen Shot 2018-06-12 at 11.56.55 PM.png  \n",
            "  inflating: fruits/validation/orange/Screen Shot 2018-06-12 at 11.57.07 PM.png  \n",
            "  inflating: fruits/validation/orange/Screen Shot 2018-06-12 at 11.57.37 PM.png  \n",
            "  inflating: fruits/validation/orange/Screen Shot 2018-06-12 at 11.57.45 PM.png  \n",
            "  inflating: fruits/validation/orange/Screen Shot 2018-06-12 at 11.57.52 PM.png  \n",
            "  inflating: fruits/validation/orange/Screen Shot 2018-06-12 at 11.58.02 PM.png  \n",
            "  inflating: fruits/validation/orange/Screen Shot 2018-06-12 at 11.58.11 PM.png  \n",
            "  inflating: fruits/validation/orange/Screen Shot 2018-06-12 at 11.58.18 PM.png  \n",
            "  inflating: fruits/validation/orange/Screen Shot 2018-06-12 at 11.58.24 PM.png  \n",
            "  inflating: fruits/validation/orange/Screen Shot 2018-06-12 at 11.58.28 PM.png  \n",
            "  inflating: fruits/validation/orange/Screen Shot 2018-06-12 at 11.58.43 PM.png  \n",
            "  inflating: fruits/validation/orange/Screen Shot 2018-06-12 at 11.58.50 PM.png  \n",
            "  inflating: fruits/validation/orange/Screen Shot 2018-06-12 at 11.58.56 PM.png  \n",
            "   creating: fruits/validation/strawberry/\n",
            "  inflating: fruits/validation/strawberry/1.png  \n",
            "  inflating: fruits/validation/strawberry/10.png  \n",
            "  inflating: fruits/validation/strawberry/11.png  \n",
            "  inflating: fruits/validation/strawberry/12.png  \n",
            "  inflating: fruits/validation/strawberry/13.png  \n",
            "  inflating: fruits/validation/strawberry/14.png  \n",
            "  inflating: fruits/validation/strawberry/15.png  \n",
            "  inflating: fruits/validation/strawberry/16.png  \n",
            "  inflating: fruits/validation/strawberry/17.png  \n",
            "  inflating: fruits/validation/strawberry/18.png  \n",
            "  inflating: fruits/validation/strawberry/19.png  \n",
            "  inflating: fruits/validation/strawberry/2.png  \n",
            "  inflating: fruits/validation/strawberry/20.png  \n",
            "  inflating: fruits/validation/strawberry/21.png  \n",
            "  inflating: fruits/validation/strawberry/22.png  \n",
            "  inflating: fruits/validation/strawberry/23.png  \n",
            "  inflating: fruits/validation/strawberry/24.png  \n",
            "  inflating: fruits/validation/strawberry/25.png  \n",
            "  inflating: fruits/validation/strawberry/26.png  \n",
            "  inflating: fruits/validation/strawberry/27.png  \n",
            "  inflating: fruits/validation/strawberry/28.png  \n",
            "  inflating: fruits/validation/strawberry/29.png  \n",
            "  inflating: fruits/validation/strawberry/3.png  \n",
            "  inflating: fruits/validation/strawberry/30.png  \n",
            "  inflating: fruits/validation/strawberry/31.png  \n",
            "  inflating: fruits/validation/strawberry/32.png  \n",
            "  inflating: fruits/validation/strawberry/33.png  \n",
            "  inflating: fruits/validation/strawberry/34.png  \n",
            "  inflating: fruits/validation/strawberry/35.png  \n",
            "  inflating: fruits/validation/strawberry/36.png  \n",
            "  inflating: fruits/validation/strawberry/37.png  \n",
            "  inflating: fruits/validation/strawberry/38.png  \n",
            "  inflating: fruits/validation/strawberry/39.png  \n",
            "  inflating: fruits/validation/strawberry/4.png  \n",
            "  inflating: fruits/validation/strawberry/40.png  \n",
            "  inflating: fruits/validation/strawberry/41.png  \n",
            "  inflating: fruits/validation/strawberry/42.png  \n",
            "  inflating: fruits/validation/strawberry/43.png  \n",
            "  inflating: fruits/validation/strawberry/44.png  \n",
            "  inflating: fruits/validation/strawberry/45.png  \n",
            "  inflating: fruits/validation/strawberry/46.png  \n",
            "  inflating: fruits/validation/strawberry/47.png  \n",
            "  inflating: fruits/validation/strawberry/48.png  \n",
            "  inflating: fruits/validation/strawberry/49.png  \n",
            "  inflating: fruits/validation/strawberry/5.png  \n",
            "  inflating: fruits/validation/strawberry/50.png  \n",
            "  inflating: fruits/validation/strawberry/6.png  \n",
            "  inflating: fruits/validation/strawberry/7.png  \n",
            "  inflating: fruits/validation/strawberry/8.png  \n",
            "  inflating: fruits/validation/strawberry/9.png  \n"
          ]
        }
      ]
    },
    {
      "cell_type": "markdown",
      "source": [
        "Import the libraries"
      ],
      "metadata": {
        "id": "4OlBhkCbb-w6"
      }
    },
    {
      "cell_type": "code",
      "source": [
        "import tensorflow as tf\n",
        "import matplotlib.pyplot as plt"
      ],
      "metadata": {
        "id": "yYCcRf6jumBp"
      },
      "execution_count": 256,
      "outputs": []
    },
    {
      "cell_type": "markdown",
      "source": [
        "Hyperparameters: Set the image size and batch size"
      ],
      "metadata": {
        "id": "Jqv5XHN8cBSP"
      }
    },
    {
      "cell_type": "code",
      "source": [
        "img_height, img_width = 32, 32\n",
        "batch_size = 20"
      ],
      "metadata": {
        "id": "aQFCylV5cHWc"
      },
      "execution_count": 257,
      "outputs": []
    },
    {
      "cell_type": "markdown",
      "source": [
        "Split the images into train, validation and test"
      ],
      "metadata": {
        "id": "fgjqEvbccOdh"
      }
    },
    {
      "cell_type": "code",
      "source": [
        "train_ds = tf.keras.utils.image_dataset_from_directory(\n",
        "    \"fruits/train\",\n",
        "    image_size = (img_height, img_width),\n",
        "    batch_size = batch_size\n",
        ")\n",
        "val_ds = tf.keras.utils.image_dataset_from_directory(\n",
        "    \"fruits/validation\",\n",
        "    image_size = (img_height, img_width),\n",
        "    batch_size = batch_size\n",
        ")\n",
        "test_ds = tf.keras.utils.image_dataset_from_directory(\n",
        "    \"fruits/test\",\n",
        "    image_size = (img_height, img_width),\n",
        "    batch_size = batch_size\n",
        ")"
      ],
      "metadata": {
        "id": "qHX_Fi2cu7y3",
        "colab": {
          "base_uri": "https://localhost:8080/"
        },
        "outputId": "d419209f-9f68-4461-c3e7-c6bba7ab27d7"
      },
      "execution_count": 258,
      "outputs": [
        {
          "output_type": "stream",
          "name": "stdout",
          "text": [
            "Found 373 files belonging to 4 classes.\n",
            "Found 116 files belonging to 4 classes.\n",
            "Found 46 files belonging to 4 classes.\n"
          ]
        }
      ]
    },
    {
      "cell_type": "markdown",
      "source": [
        "Display sample images from the dataset"
      ],
      "metadata": {
        "id": "Sjn3c-oAcVsE"
      }
    },
    {
      "cell_type": "code",
      "source": [
        "class_names = [\"apple\", \"banana\", \"orange\", \"strawberry\"]\n",
        "plt.figure(figsize=(10,10))\n",
        "for images, labels in train_ds.take(1):\n",
        "  for i in range(9):\n",
        "    ax = plt.subplot(4, 4, i + 1)\n",
        "    plt.imshow(images[i].numpy().astype(\"uint8\"))\n",
        "    plt.title(class_names[labels[i]])\n",
        "    plt.axis(\"off\")"
      ],
      "metadata": {
        "id": "oDzXZ6AwvX5f",
        "colab": {
          "base_uri": "https://localhost:8080/",
          "height": 628
        },
        "outputId": "b6e2ab85-d982-499e-e359-7662edc06657"
      },
      "execution_count": 259,
      "outputs": [
        {
          "output_type": "display_data",
          "data": {
            "text/plain": [
              "<Figure size 1000x1000 with 9 Axes>"
            ],
            "image/png": "[encoded data removed]"
          },
          "metadata": {}
        }
      ]
    },
    {
      "cell_type": "markdown",
      "source": [
        "Create the Convolutional Neural Network Model (CNN)"
      ],
      "metadata": {
        "id": "cB13kmfecaSb"
      }
    },
    {
      "cell_type": "code",
      "source": [
        "\n",
        "# model = tf.keras.Sequential(\n",
        "#     [\n",
        "#      tf.keras.layers.Rescaling(1./255),\n",
        "#      tf.keras.layers.Conv2D(32, 3, activation=\"relu\"),\n",
        "#      tf.keras.layers.MaxPooling2D(),\n",
        "#      tf.keras.layers.Conv2D(32, 3, activation=\"relu\"),\n",
        "#      tf.keras.layers.MaxPooling2D(),\n",
        "#      tf.keras.layers.Conv2D(32, 3, activation=\"relu\"),\n",
        "#      tf.keras.layers.MaxPooling2D(),\n",
        "#      tf.keras.layers.Flatten(),\n",
        "#      tf.keras.layers.Dense(128, activation=\"relu\"),\n",
        "#      tf.keras.layers.Dense(4)\n",
        "#     ]\n",
        "# )\n",
        "\n",
        "from tensorflow.keras import layers, models\n",
        "\n",
        "model = tf.keras.Sequential([\n",
        "    tf.keras.layers.Rescaling(1./255, input_shape=(img_height, img_width, 3)),\n",
        "\n",
        "    # Block 1\n",
        "    layers.Conv2D(32, 3, padding='same', activation='relu'),\n",
        "    layers.BatchNormalization(),\n",
        "    layers.MaxPooling2D(),\n",
        "\n",
        "    # Block 2\n",
        "    layers.Conv2D(64, 3, padding='same', activation='relu'),\n",
        "    layers.BatchNormalization(),\n",
        "    layers.MaxPooling2D(),\n",
        "\n",
        "    # Block 3\n",
        "    layers.Conv2D(128, 3, padding='same', activation='relu'),\n",
        "    layers.BatchNormalization(),\n",
        "    layers.MaxPooling2D(),\n",
        "\n",
        "    # Flatten and Dense\n",
        "    layers.Flatten(),\n",
        "    layers.Dense(128, activation='relu'),\n",
        "    layers.Dropout(0.5),\n",
        "    layers.Dense(64, activation='relu'),\n",
        "    layers.Dropout(0.3),\n",
        "    layers.Dense(4, activation='softmax')  # Softmax for probability output\n",
        "])\n"
      ],
      "metadata": {
        "id": "sKiERvTtwRmf"
      },
      "execution_count": 315,
      "outputs": []
    },
    {
      "cell_type": "markdown",
      "source": [
        "Define the optimizer and loss function"
      ],
      "metadata": {
        "id": "WI9iRo88cgHj"
      }
    },
    {
      "cell_type": "code",
      "source": [
        "model.compile(\n",
        "    optimizer=\"adam\",\n",
        "    loss=tf.losses.SparseCategoricalCrossentropy(from_logits = True),\n",
        "    metrics=['accuracy']\n",
        ")"
      ],
      "metadata": {
        "id": "_2qTP0hk3OqK"
      },
      "execution_count": 316,
      "outputs": []
    },
    {
      "cell_type": "markdown",
      "source": [
        "Train the model"
      ],
      "metadata": {
        "id": "2YG53Mglckzg"
      }
    },
    {
      "cell_type": "code",
      "source": [
        "model.fit(\n",
        "    train_ds,\n",
        "    validation_data = val_ds,\n",
        "    epochs = 32\n",
        ")"
      ],
      "metadata": {
        "id": "ILi1YyWf3fob",
        "colab": {
          "base_uri": "https://localhost:8080/"
        },
        "outputId": "5b069ae0-8891-4d3b-de57-58125aa04a92"
      },
      "execution_count": 317,
      "outputs": [
        {
          "output_type": "stream",
          "name": "stdout",
          "text": [
            "Epoch 1/32\n",
            "\u001b[1m19/19\u001b[0m \u001b[32m━━━━━━━━━━━━━━━━━━━━\u001b[0m\u001b[37m\u001b[0m \u001b[1m11s\u001b[0m 253ms/step - accuracy: 0.4296 - loss: 2.0557 - val_accuracy: 0.1897 - val_loss: 1.5171\n",
            "Epoch 2/32\n",
            "\u001b[1m19/19\u001b[0m \u001b[32m━━━━━━━━━━━━━━━━━━━━\u001b[0m\u001b[37m\u001b[0m \u001b[1m4s\u001b[0m 81ms/step - accuracy: 0.8197 - loss: 0.5996 - val_accuracy: 0.3362 - val_loss: 1.7506\n",
            "Epoch 3/32\n",
            "\u001b[1m19/19\u001b[0m \u001b[32m━━━━━━━━━━━━━━━━━━━━\u001b[0m\u001b[37m\u001b[0m \u001b[1m1s\u001b[0m 79ms/step - accuracy: 0.8346 - loss: 0.4203 - val_accuracy: 0.1983 - val_loss: 1.9480\n",
            "Epoch 4/32\n",
            "\u001b[1m19/19\u001b[0m \u001b[32m━━━━━━━━━━━━━━━━━━━━\u001b[0m\u001b[37m\u001b[0m \u001b[1m2s\u001b[0m 128ms/step - accuracy: 0.9034 - loss: 0.2847 - val_accuracy: 0.1983 - val_loss: 2.1428\n",
            "Epoch 5/32\n",
            "\u001b[1m19/19\u001b[0m \u001b[32m━━━━━━━━━━━━━━━━━━━━\u001b[0m\u001b[37m\u001b[0m \u001b[1m3s\u001b[0m 150ms/step - accuracy: 0.9002 - loss: 0.2598 - val_accuracy: 0.1983 - val_loss: 2.5028\n",
            "Epoch 6/32\n",
            "\u001b[1m19/19\u001b[0m \u001b[32m━━━━━━━━━━━━━━━━━━━━\u001b[0m\u001b[37m\u001b[0m \u001b[1m4s\u001b[0m 80ms/step - accuracy: 0.9377 - loss: 0.1902 - val_accuracy: 0.1983 - val_loss: 2.7487\n",
            "Epoch 7/32\n",
            "\u001b[1m19/19\u001b[0m \u001b[32m━━━━━━━━━━━━━━━━━━━━\u001b[0m\u001b[37m\u001b[0m \u001b[1m2s\u001b[0m 81ms/step - accuracy: 0.9730 - loss: 0.1499 - val_accuracy: 0.1983 - val_loss: 2.7131\n",
            "Epoch 8/32\n",
            "\u001b[1m19/19\u001b[0m \u001b[32m━━━━━━━━━━━━━━━━━━━━\u001b[0m\u001b[37m\u001b[0m \u001b[1m2s\u001b[0m 78ms/step - accuracy: 0.9546 - loss: 0.1421 - val_accuracy: 0.2759 - val_loss: 2.7407\n",
            "Epoch 9/32\n",
            "\u001b[1m19/19\u001b[0m \u001b[32m━━━━━━━━━━━━━━━━━━━━\u001b[0m\u001b[37m\u001b[0m \u001b[1m2s\u001b[0m 129ms/step - accuracy: 0.9796 - loss: 0.1219 - val_accuracy: 0.1897 - val_loss: 3.1109\n",
            "Epoch 10/32\n",
            "\u001b[1m19/19\u001b[0m \u001b[32m━━━━━━━━━━━━━━━━━━━━\u001b[0m\u001b[37m\u001b[0m \u001b[1m2s\u001b[0m 92ms/step - accuracy: 0.9407 - loss: 0.2226 - val_accuracy: 0.2069 - val_loss: 2.0409\n",
            "Epoch 11/32\n",
            "\u001b[1m19/19\u001b[0m \u001b[32m━━━━━━━━━━━━━━━━━━━━\u001b[0m\u001b[37m\u001b[0m \u001b[1m2s\u001b[0m 80ms/step - accuracy: 0.9512 - loss: 0.1253 - val_accuracy: 0.4828 - val_loss: 2.7061\n",
            "Epoch 12/32\n",
            "\u001b[1m19/19\u001b[0m \u001b[32m━━━━━━━━━━━━━━━━━━━━\u001b[0m\u001b[37m\u001b[0m \u001b[1m2s\u001b[0m 81ms/step - accuracy: 0.9604 - loss: 0.1364 - val_accuracy: 0.3707 - val_loss: 2.3562\n",
            "Epoch 13/32\n",
            "\u001b[1m19/19\u001b[0m \u001b[32m━━━━━━━━━━━━━━━━━━━━\u001b[0m\u001b[37m\u001b[0m \u001b[1m2s\u001b[0m 80ms/step - accuracy: 0.9631 - loss: 0.1255 - val_accuracy: 0.5862 - val_loss: 1.2915\n",
            "Epoch 14/32\n",
            "\u001b[1m19/19\u001b[0m \u001b[32m━━━━━━━━━━━━━━━━━━━━\u001b[0m\u001b[37m\u001b[0m \u001b[1m3s\u001b[0m 79ms/step - accuracy: 0.9905 - loss: 0.0577 - val_accuracy: 0.5517 - val_loss: 1.7084\n",
            "Epoch 15/32\n",
            "\u001b[1m19/19\u001b[0m \u001b[32m━━━━━━━━━━━━━━━━━━━━\u001b[0m\u001b[37m\u001b[0m \u001b[1m4s\u001b[0m 148ms/step - accuracy: 0.9709 - loss: 0.0698 - val_accuracy: 0.5690 - val_loss: 2.4860\n",
            "Epoch 16/32\n",
            "\u001b[1m19/19\u001b[0m \u001b[32m━━━━━━━━━━━━━━━━━━━━\u001b[0m\u001b[37m\u001b[0m \u001b[1m1s\u001b[0m 78ms/step - accuracy: 0.9703 - loss: 0.1090 - val_accuracy: 0.5862 - val_loss: 1.9410\n",
            "Epoch 17/32\n",
            "\u001b[1m19/19\u001b[0m \u001b[32m━━━━━━━━━━━━━━━━━━━━\u001b[0m\u001b[37m\u001b[0m \u001b[1m3s\u001b[0m 79ms/step - accuracy: 0.9664 - loss: 0.0872 - val_accuracy: 0.5690 - val_loss: 2.4858\n",
            "Epoch 18/32\n",
            "\u001b[1m19/19\u001b[0m \u001b[32m━━━━━━━━━━━━━━━━━━━━\u001b[0m\u001b[37m\u001b[0m \u001b[1m3s\u001b[0m 80ms/step - accuracy: 0.9697 - loss: 0.0989 - val_accuracy: 0.6121 - val_loss: 1.4043\n",
            "Epoch 19/32\n",
            "\u001b[1m19/19\u001b[0m \u001b[32m━━━━━━━━━━━━━━━━━━━━\u001b[0m\u001b[37m\u001b[0m \u001b[1m3s\u001b[0m 78ms/step - accuracy: 0.9732 - loss: 0.0719 - val_accuracy: 0.5086 - val_loss: 3.7357\n",
            "Epoch 20/32\n",
            "\u001b[1m19/19\u001b[0m \u001b[32m━━━━━━━━━━━━━━━━━━━━\u001b[0m\u001b[37m\u001b[0m \u001b[1m2s\u001b[0m 104ms/step - accuracy: 0.9632 - loss: 0.0943 - val_accuracy: 0.5690 - val_loss: 2.8967\n",
            "Epoch 21/32\n",
            "\u001b[1m19/19\u001b[0m \u001b[32m━━━━━━━━━━━━━━━━━━━━\u001b[0m\u001b[37m\u001b[0m \u001b[1m2s\u001b[0m 91ms/step - accuracy: 0.9661 - loss: 0.0992 - val_accuracy: 0.5862 - val_loss: 2.6431\n",
            "Epoch 22/32\n",
            "\u001b[1m19/19\u001b[0m \u001b[32m━━━━━━━━━━━━━━━━━━━━\u001b[0m\u001b[37m\u001b[0m \u001b[1m2s\u001b[0m 80ms/step - accuracy: 0.9770 - loss: 0.0848 - val_accuracy: 0.5948 - val_loss: 2.1072\n",
            "Epoch 23/32\n",
            "\u001b[1m19/19\u001b[0m \u001b[32m━━━━━━━━━━━━━━━━━━━━\u001b[0m\u001b[37m\u001b[0m \u001b[1m3s\u001b[0m 82ms/step - accuracy: 0.9729 - loss: 0.0843 - val_accuracy: 0.7069 - val_loss: 1.7769\n",
            "Epoch 24/32\n",
            "\u001b[1m19/19\u001b[0m \u001b[32m━━━━━━━━━━━━━━━━━━━━\u001b[0m\u001b[37m\u001b[0m \u001b[1m3s\u001b[0m 80ms/step - accuracy: 0.9818 - loss: 0.0818 - val_accuracy: 0.5345 - val_loss: 6.9262\n",
            "Epoch 25/32\n",
            "\u001b[1m19/19\u001b[0m \u001b[32m━━━━━━━━━━━━━━━━━━━━\u001b[0m\u001b[37m\u001b[0m \u001b[1m2s\u001b[0m 80ms/step - accuracy: 0.9837 - loss: 0.0325 - val_accuracy: 0.5345 - val_loss: 6.7305\n",
            "Epoch 26/32\n",
            "\u001b[1m19/19\u001b[0m \u001b[32m━━━━━━━━━━━━━━━━━━━━\u001b[0m\u001b[37m\u001b[0m \u001b[1m2s\u001b[0m 105ms/step - accuracy: 0.9644 - loss: 0.0894 - val_accuracy: 0.4483 - val_loss: 5.4415\n",
            "Epoch 27/32\n",
            "\u001b[1m19/19\u001b[0m \u001b[32m━━━━━━━━━━━━━━━━━━━━\u001b[0m\u001b[37m\u001b[0m \u001b[1m2s\u001b[0m 116ms/step - accuracy: 0.9893 - loss: 0.0594 - val_accuracy: 0.5690 - val_loss: 3.7282\n",
            "Epoch 28/32\n",
            "\u001b[1m19/19\u001b[0m \u001b[32m━━━━━━━━━━━━━━━━━━━━\u001b[0m\u001b[37m\u001b[0m \u001b[1m2s\u001b[0m 80ms/step - accuracy: 0.9716 - loss: 0.1180 - val_accuracy: 0.5603 - val_loss: 3.0744\n",
            "Epoch 29/32\n",
            "\u001b[1m19/19\u001b[0m \u001b[32m━━━━━━━━━━━━━━━━━━━━\u001b[0m\u001b[37m\u001b[0m \u001b[1m3s\u001b[0m 82ms/step - accuracy: 0.9814 - loss: 0.1013 - val_accuracy: 0.5000 - val_loss: 4.4324\n",
            "Epoch 30/32\n",
            "\u001b[1m19/19\u001b[0m \u001b[32m━━━━━━━━━━━━━━━━━━━━\u001b[0m\u001b[37m\u001b[0m \u001b[1m3s\u001b[0m 83ms/step - accuracy: 0.9746 - loss: 0.0837 - val_accuracy: 0.5259 - val_loss: 3.7069\n",
            "Epoch 31/32\n",
            "\u001b[1m19/19\u001b[0m \u001b[32m━━━━━━━━━━━━━━━━━━━━\u001b[0m\u001b[37m\u001b[0m \u001b[1m2s\u001b[0m 81ms/step - accuracy: 0.9523 - loss: 0.1287 - val_accuracy: 0.6983 - val_loss: 2.0209\n",
            "Epoch 32/32\n",
            "\u001b[1m19/19\u001b[0m \u001b[32m━━━━━━━━━━━━━━━━━━━━\u001b[0m\u001b[37m\u001b[0m \u001b[1m3s\u001b[0m 131ms/step - accuracy: 0.9791 - loss: 0.0478 - val_accuracy: 0.6034 - val_loss: 5.0109\n"
          ]
        },
        {
          "output_type": "execute_result",
          "data": {
            "text/plain": [
              "<keras.src.callbacks.history.History at 0x7b459ffdf450>"
            ]
          },
          "metadata": {},
          "execution_count": 317
        }
      ]
    },
    {
      "cell_type": "markdown",
      "source": [
        "Test the model"
      ],
      "metadata": {
        "id": "2QnLAR6ocmPQ"
      }
    },
    {
      "cell_type": "code",
      "source": [
        "model.evaluate(test_ds)"
      ],
      "metadata": {
        "id": "AJalZYGa3tKG",
        "colab": {
          "base_uri": "https://localhost:8080/"
        },
        "outputId": "8b714b3f-2396-4fcb-95c7-0c1d9f357eb2"
      },
      "execution_count": 318,
      "outputs": [
        {
          "output_type": "stream",
          "name": "stdout",
          "text": [
            "\u001b[1m3/3\u001b[0m \u001b[32m━━━━━━━━━━━━━━━━━━━━\u001b[0m\u001b[37m\u001b[0m \u001b[1m1s\u001b[0m 294ms/step - accuracy: 0.9891 - loss: 0.0432\n"
          ]
        },
        {
          "output_type": "execute_result",
          "data": {
            "text/plain": [
              "[0.06624359637498856, 0.97826087474823]"
            ]
          },
          "metadata": {},
          "execution_count": 318
        }
      ]
    },
    {
      "cell_type": "code",
      "source": [
        "import numpy\n",
        "\n",
        "plt.figure(figsize=(10,10))\n",
        "for images, labels in test_ds.take(1):\n",
        "  classifications = model(images)\n",
        "  # print(classifications)\n",
        "\n",
        "  for i in range(9):\n",
        "    ax = plt.subplot(3, 3, i + 1)\n",
        "    plt.imshow(images[i].numpy().astype(\"uint8\"))\n",
        "    index = numpy.argmax(classifications[i])\n",
        "    plt.title(\"Pred: \" + class_names[index] + \" | Real: \" + class_names[labels[i]])"
      ],
      "metadata": {
        "id": "AZXzzvArbrR7",
        "colab": {
          "base_uri": "https://localhost:8080/",
          "height": 853
        },
        "outputId": "da68757a-a1ac-442f-c8e7-be1d611ee994"
      },
      "execution_count": 319,
      "outputs": [
        {
          "output_type": "display_data",
          "data": {
            "text/plain": [
              "<Figure size 1000x1000 with 9 Axes>"
            ],
            "image/png": "[encoded data removed]"
          },
          "metadata": {}
        }
      ]
    },
    {
      "cell_type": "markdown",
      "source": [
        "Save the model"
      ],
      "metadata": {
        "id": "H4KuT6kwcpuA"
      }
    },
    {
      "cell_type": "code",
      "source": [
        "# converter = tf.lite.TFLiteConverter.from_keras_model(model)\n",
        "# tflite_model = converter.convert()\n",
        "\n",
        "# with open(\"model.tflite\", 'wb') as f:\n",
        "#   f.write(tflite_model)\n",
        "\n",
        "model.save(\"fruit_model.keras\")"
      ],
      "metadata": {
        "id": "P8ySxVJubs7Q"
      },
      "execution_count": 321,
      "outputs": []
    },
    {
      "cell_type": "code",
      "source": [],
      "metadata": {
        "id": "nc9ETTkbfuF0"
      },
      "execution_count": 169,
      "outputs": []
    }
  ]
}